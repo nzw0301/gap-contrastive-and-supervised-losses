{
 "cells": [
  {
   "cell_type": "code",
   "execution_count": null,
   "id": "b000bdde-c9e5-4aed-a992-5adc5213b6fd",
   "metadata": {},
   "outputs": [],
   "source": [
    "import pandas as pd\n",
    "import wandb\n",
    "\n",
    "%config Completer.use_jedi = False"
   ]
  },
  {
   "cell_type": "code",
   "execution_count": null,
   "id": "048e0a76-3e1b-445e-b4fc-8b6ad501124c",
   "metadata": {},
   "outputs": [],
   "source": [
    "api = wandb.Api()\n",
    "entity, project = \"INPUT_YOUR_ENTITY\", \"curl\"\n",
    "runs = api.runs(entity + \"/\" + project) "
   ]
  },
  {
   "cell_type": "code",
   "execution_count": null,
   "id": "07c694ef-466a-42d4-abd0-7ac9c66658f3",
   "metadata": {},
   "outputs": [],
   "source": [
    "dataset = [\"wiki3029\", \"cifar10\", \"cifar100\"]\n",
    "records = []\n",
    "\n",
    "for run in runs: \n",
    "    if \"hydra_path\" in run.config and run.config[\"dataset.name\"] in dataset and run.config[\"name\"] == \"contrastive\" and:\n",
    "        records.append(run.config)\n"
   ]
  },
  {
   "cell_type": "code",
   "execution_count": null,
   "id": "ec514e17-8b01-46af-9049-046defc91cb2",
   "metadata": {},
   "outputs": [],
   "source": [
    "df = pd.DataFrame.from_records(records)"
   ]
  },
  {
   "cell_type": "code",
   "execution_count": null,
   "id": "98566fdc-c3d1-4c9e-b228-22c6af18e807",
   "metadata": {},
   "outputs": [],
   "source": [
    "df.head(2)"
   ]
  },
  {
   "cell_type": "code",
   "execution_count": null,
   "id": "a17fa545-938d-4792-b2a4-4eb0a8db7b7e",
   "metadata": {},
   "outputs": [],
   "source": [
    "postfix = \"contrastive_wights_path.txt\"\n",
    "\n",
    "seeds = set(df.seed.values)"
   ]
  },
  {
   "cell_type": "code",
   "execution_count": null,
   "id": "9dfb25c6-7b9b-473d-963b-3649c5e825e0",
   "metadata": {},
   "outputs": [],
   "source": [
    "# wiki\n",
    "for seed in seeds:\n",
    "\n",
    "    wiki = df[(df[\"dataset.name\"] == \"wiki3029\") & (df[\"seed\"] == seed)]\n",
    "\n",
    "    # Ks=4, Cs=4, lrs=4\n",
    "    param_config = set()\n",
    "    for row in wiki[[\"optimizer.lr\", \"dataset.num_used_classes\", \"loss.neg_size\"]].values:\n",
    "        param_config.add(\"-\".join(map(str, row)))\n",
    "\n",
    "    assert len(param_config) == 4 * 4 * 4\n",
    "    \n",
    "    for k in [\"optimizer.lr\", \"dataset.num_used_classes\", \"loss.neg_size\"]:\n",
    "        assert len(set(wiki[k])) == 4\n",
    "\n",
    "    with open(\"../jobs/language/wiki3029/seed_{}-{}\".format(seed, postfix), \"w\") as f:\n",
    "        for p in sorted(wiki.hydra_path.values):\n",
    "            f.write(f\"{p}/\\n\")\n"
   ]
  },
  {
   "cell_type": "code",
   "execution_count": null,
   "id": "49840e6e-4507-4193-8b1f-f4b8b3fa9c96",
   "metadata": {
    "pycharm": {
     "name": "#%%\n"
    }
   },
   "outputs": [],
   "source": [
    "# cifar10/100\n",
    "for dname in [\"cifar10\", \"cifar100\"]:\n",
    "\n",
    "    for seed in seeds:\n",
    "        \n",
    "#         if seed != 7:\n",
    "#             continue\n",
    "            \n",
    "        cifar_df = df[(df[\"dataset.name\"] == dname) & (df[\"seed\"] == seed)]\n",
    "\n",
    "        # lrs=3, C=1, Ks=4\n",
    "        param_config = set()\n",
    "        for row in cifar_df[[\"optimizer.lr\", \"dataset.num_used_classes\", \"loss.neg_size\"]].values:\n",
    "            param_config.add(\"-\".join(map(str, row)))\n",
    "\n",
    "#         assert len(param_config) == 3 * 1 * 4\n",
    "\n",
    "#         for k, unique_num in zip([\"optimizer.lr\", \"dataset.num_used_classes\", \"loss.neg_size\"], [3, 1, 4]):\n",
    "#             assert len(set(cifar_df[k])) == unique_num\n",
    "\n",
    "\n",
    "        with open(\"../jobs/vision/{}/seed_{}-{}\".format(dname, seed, postfix), \"w\") as f:\n",
    "            for p in sorted(cifar_df.hydra_path.values):\n",
    "                f.write(f\"{p}/\\n\")\n"
   ]
  },
  {
   "cell_type": "code",
   "execution_count": null,
   "id": "a49658df-eae5-4398-945a-4b73c0147e16",
   "metadata": {},
   "outputs": [],
   "source": []
  }
 ],
 "metadata": {
  "kernelspec": {
   "display_name": "Python 3 (ipykernel)",
   "language": "python",
   "name": "python3"
  },
  "language_info": {
   "codemirror_mode": {
    "name": "ipython",
    "version": 3
   },
   "file_extension": ".py",
   "mimetype": "text/x-python",
   "name": "python",
   "nbconvert_exporter": "python",
   "pygments_lexer": "ipython3",
   "version": "3.8.11"
  }
 },
 "nbformat": 4,
 "nbformat_minor": 5
}
